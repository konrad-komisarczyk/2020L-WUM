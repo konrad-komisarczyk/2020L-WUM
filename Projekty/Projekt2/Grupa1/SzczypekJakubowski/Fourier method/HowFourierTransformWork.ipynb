{
 "cells": [
  {
   "cell_type": "markdown",
   "metadata": {},
   "source": [
    "# Import Libraries"
   ]
  },
  {
   "cell_type": "code",
   "execution_count": 1,
   "metadata": {},
   "outputs": [],
   "source": [
    "from visualizations import *\n",
    "import numpy as np\n",
    "import pandas as pd\n",
    "import warnings\n",
    "from math import tau\n",
    "from scipy.integrate import quad\n",
    "warnings.filterwarnings('ignore')"
   ]
  },
  {
   "cell_type": "markdown",
   "metadata": {},
   "source": [
    "## Load data"
   ]
  },
  {
   "cell_type": "code",
   "execution_count": 2,
   "metadata": {},
   "outputs": [],
   "source": [
    "data = np.loadtxt(\"./../DATA/digits2k_pixels.data.gz\", ndmin=2)/255.0\n",
    "data.shape = (data.shape[0], int(np.sqrt(data.shape[1])), int(np.sqrt(data.shape[1])))\n",
    "labels = np.loadtxt(\"./../DATA/digits2k_pixels.labels.gz\", dtype='int')"
   ]
  },
  {
   "cell_type": "code",
   "execution_count": 24,
   "metadata": {},
   "outputs": [
    {
     "data": {
      "text/plain": [
       "<matplotlib.image.AxesImage at 0x2c5a75ba308>"
      ]
     },
     "execution_count": 24,
     "metadata": {},
     "output_type": "execute_result"
    },
    {
     "data": {
      "image/png": "[encoded data removed]",
      "text/plain": [
       "<Figure size 432x288 with 1 Axes>"
      ]
     },
     "metadata": {
      "needs_background": "light"
     },
     "output_type": "display_data"
    }
   ],
   "source": [
    "i = 122\n",
    "plt.imshow(data[i,:,:], cmap=plt.get_cmap(\"gray\"))"
   ]
  },
  {
   "cell_type": "markdown",
   "metadata": {},
   "source": [
    "## Function to transform to binary matrix"
   ]
  },
  {
   "cell_type": "code",
   "execution_count": 25,
   "metadata": {},
   "outputs": [],
   "source": [
    "def onlyBlackWhite(array, threshold = 0.01):\n",
    "    result = array.copy()\n",
    "    for i in range(len(result)):\n",
    "        for j in range(len(result[0])):\n",
    "            if (result[i,j] < threshold):\n",
    "                result[i,j] = 0\n",
    "            else:\n",
    "                result[i,j] = 1\n",
    "    return result"
   ]
  },
  {
   "cell_type": "code",
   "execution_count": 26,
   "metadata": {},
   "outputs": [],
   "source": [
    "copied = onlyBlackWhite(data[i,:,:])"
   ]
  },
  {
   "cell_type": "code",
   "execution_count": 27,
   "metadata": {},
   "outputs": [
    {
     "data": {
      "text/plain": [
       "<matplotlib.image.AxesImage at 0x2c5a7623208>"
      ]
     },
     "execution_count": 27,
     "metadata": {},
     "output_type": "execute_result"
    },
    {
     "data": {
      "image/png": "[encoded data removed]",
      "text/plain": [
       "<Figure size 432x288 with 1 Axes>"
      ]
     },
     "metadata": {
      "needs_background": "light"
     },
     "output_type": "display_data"
    }
   ],
   "source": [
    "plt.imshow(copied, cmap=plt.get_cmap(\"gray\"))"
   ]
  },
  {
   "cell_type": "markdown",
   "metadata": {},
   "source": [
    "## Getting contour points of image"
   ]
  },
  {
   "cell_type": "code",
   "execution_count": 28,
   "metadata": {},
   "outputs": [
    {
     "data": {
      "image/png": "[encoded data removed]",
      "text/plain": [
       "<Figure size 720x360 with 2 Axes>"
      ]
     },
     "metadata": {
      "needs_background": "light"
     },
     "output_type": "display_data"
    }
   ],
   "source": [
    "time_table, x_table, y_table = create_close_loop(copied)"
   ]
  },
  {
   "cell_type": "markdown",
   "metadata": {},
   "source": [
    "# Finding Fourier coefficients"
   ]
  },
  {
   "cell_type": "markdown",
   "metadata": {},
   "source": [
    "## $c_{n}=\\frac{1}{2\\pi}\\int_{0}^{2\\pi}f(t)e^{-jnt}dt$\n",
    "## $f(t)=\\sum_{n=-\\infty}^{\\infty}c_{n}e^{-jnt}$"
   ]
  },
  {
   "cell_type": "markdown",
   "metadata": {},
   "source": [
    "Of course to get $f(t)$ we first need to somehow know $f(t)$. We know that $f$ is a function of $t\\in[0,2\\pi]$(treated as time) and returns a complex number corresponding to a point location. To get $c_{n}$(Fourier coefficients), we will aproximate $f$ values for each $n$ with the function below.  \n",
    "Of course $tau=2\\pi$"
   ]
  },
  {
   "cell_type": "code",
   "execution_count": 29,
   "metadata": {},
   "outputs": [],
   "source": [
    "time_table = np.linspace(0, tau, len(x_table)) # arguments for aproximated f function"
   ]
  },
  {
   "cell_type": "code",
   "execution_count": 30,
   "metadata": {},
   "outputs": [],
   "source": [
    "def f(t, time_table, x_table, y_table):\n",
    "    return interp(t, time_table, x_table) + 1j*interp(t, time_table, y_table)"
   ]
  },
  {
   "cell_type": "markdown",
   "metadata": {},
   "source": [
    "### Coefficients finding function"
   ]
  },
  {
   "cell_type": "markdown",
   "metadata": {},
   "source": [
    "Since $f(t)$ results in $z = a+bj$  \n",
    "$c_{n}=\\frac{1}{2\\pi}\\int_{0}^{2\\pi}f(t)e^{-jnt}dt=\\frac{1}{2\\pi}\\int_{0}^{2\\pi}ae^{-jnt}+bjae^{-jnt}dt=$"
   ]
  },
  {
   "cell_type": "code",
   "execution_count": 31,
   "metadata": {},
   "outputs": [],
   "source": [
    "def coef_list(time_table, x_table, y_table, order=10):\n",
    "    \"\"\"\n",
    "    Counting c_n coefficients of Fourier series, of function aproximated by points (time_table, x_table + j*y_table)\n",
    "    of order of magnitude = order\n",
    "    \"\"\"\n",
    "    coef_list = []\n",
    "    for n in range(-order, order+1):\n",
    "        real_coef = quad(lambda t: np.real(f(t, time_table, x_table, y_table) * np.exp(-n*1j*t)), 0, tau, limit=100, full_output=1)[0]/tau\n",
    "        imag_coef = quad(lambda t: np.imag(f(t, time_table, x_table, y_table) * np.exp(-n*1j*t)), 0, tau, limit=100, full_output=1)[0]/tau\n",
    "        coef_list.append([real_coef, imag_coef])\n",
    "    return np.array(coef_list)"
   ]
  },
  {
   "cell_type": "code",
   "execution_count": 32,
   "metadata": {},
   "outputs": [
    {
     "name": "stdout",
     "output_type": "stream",
     "text": [
      "[[ 6.16648447e-02 -2.97562156e-02]\n",
      " [-7.64972738e-02  2.12918768e-01]\n",
      " [ 3.90975556e-02 -1.06562404e-03]\n",
      " [-7.27181354e-02 -5.71940577e-02]\n",
      " [-4.39588183e-01  4.76254828e-01]\n",
      " [ 1.79525195e-01 -2.02101811e-01]\n",
      " [-7.12706919e-01 -2.03364286e-02]\n",
      " [-1.46522385e+00  1.14546330e+00]\n",
      " [-2.43709611e-01 -5.00714837e-01]\n",
      " [-4.42835517e-02  7.49167394e+00]\n",
      " [ 7.74025141e-01 -1.80136938e+00]\n",
      " [ 4.43745665e-01  2.26284790e+00]\n",
      " [-1.36833545e-01  1.98655304e+00]\n",
      " [-8.05197615e-01 -5.93673403e-01]\n",
      " [-3.68341361e-01 -1.12138793e-01]\n",
      " [-2.07263653e-02  8.45511321e-02]\n",
      " [ 2.03409721e-01 -1.48795992e-01]\n",
      " [-2.30817514e-02 -1.59286328e-01]\n",
      " [ 6.50949445e-02  2.59649915e-02]\n",
      " [ 8.99393375e-02  1.13518008e-01]\n",
      " [-1.79360954e-02 -7.04723905e-02]]\n"
     ]
    }
   ],
   "source": [
    "coef = coef_list(time_table, x_table, y_table)\n",
    "print(coef)"
   ]
  },
  {
   "cell_type": "markdown",
   "metadata": {},
   "source": [
    "These are counted coefficients for shape of imported image, which will be further used to compare images. Fortunately Fourier Series can be treated as simmilar whenever their coefficients are close to each other."
   ]
  },
  {
   "cell_type": "markdown",
   "metadata": {},
   "source": [
    "## Visualize"
   ]
  },
  {
   "cell_type": "markdown",
   "metadata": {},
   "source": [
    "### Calculate points to plot by aproximated Fourier series"
   ]
  },
  {
   "cell_type": "code",
   "execution_count": 33,
   "metadata": {},
   "outputs": [],
   "source": [
    "space = np.linspace(0, tau, 300)\n",
    "x_DFT = [DFT(t, coef)[0] for t in space]\n",
    "y_DFT = [DFT(t, coef)[1] for t in space]"
   ]
  },
  {
   "cell_type": "markdown",
   "metadata": {},
   "source": [
    "### Draw contour(black) and aproximated Fourier line(red)"
   ]
  },
  {
   "cell_type": "code",
   "execution_count": 34,
   "metadata": {},
   "outputs": [
    {
     "data": {
      "image/png": "[encoded data removed]",
      "text/plain": [
       "<Figure size 360x360 with 1 Axes>"
      ]
     },
     "metadata": {
      "needs_background": "light"
     },
     "output_type": "display_data"
    }
   ],
   "source": [
    "fig, ax = plt.subplots(figsize=(5,5))\n",
    "ax.plot(x_DFT, y_DFT, 'r--')\n",
    "ax.plot(x_table, y_table, 'k-')\n",
    "ax.set_aspect('equal', 'datalim')\n",
    "xmin, xmax = xlim()\n",
    "ymin, ymax = ylim()"
   ]
  },
  {
   "cell_type": "markdown",
   "metadata": {},
   "source": [
    "### Create animation"
   ]
  },
  {
   "cell_type": "code",
   "execution_count": 35,
   "metadata": {},
   "outputs": [
    {
     "data": {
      "image/png": "[encoded data removed]",
      "text/plain": [
       "<Figure size 432x288 with 1 Axes>"
      ]
     },
     "metadata": {
      "needs_background": "light"
     },
     "output_type": "display_data"
    }
   ],
   "source": [
    "order = 10\n",
    "anim = visualize(x_DFT, y_DFT, coef, order, space, [xmin, xmax, ymin, ymax])\n",
    "Writer = animation.writers['html']\n",
    "writer = Writer(fps=75)\n",
    "anim.save('dwa.html', writer=writer, dpi=150)"
   ]
  }
 ],
 "metadata": {
  "kernelspec": {
   "display_name": "Python 3",
   "language": "python",
   "name": "python3"
  },
  "language_info": {
   "codemirror_mode": {
    "name": "ipython",
    "version": 3
   },
   "file_extension": ".py",
   "mimetype": "text/x-python",
   "name": "python",
   "nbconvert_exporter": "python",
   "pygments_lexer": "ipython3",
   "version": "3.7.4"
  }
 },
 "nbformat": 4,
 "nbformat_minor": 2
}
